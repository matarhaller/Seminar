{
 "metadata": {
  "name": "Advanced IPython Notebook.v2"
 },
 "nbformat": 3,
 "nbformat_minor": 0,
 "orig_nbformat": 2,
 "worksheets": [
  {
   "cells": [
    {
     "cell_type": "markdown",
     "metadata": {},
     "source": [
      "# Advanced Ipython session\n",
      "\n",
      "\n",
      "\n",
      "* IPython magics for development\n",
      "\n",
      "* Integration in IPython\n",
      "\n",
      "* Parallelization in IPython\n",
      "\n",
      "\n",
      "\n",
      "![XKCD New Pet](http://imgs.xkcd.com/comics/new_pet.png)\n",
      "\n",
      "\n",
      "\n",
      "Comic: [XKCD: New Pet](http://xkcd.com/413/)\n",
      "\n",
      "\n",
      "\n",
      "## 1. Development goodies\n",
      "\n",
      "\n",
      "\n",
      "### Documentation and source"
     ]
    },
    {
     "cell_type": "code",
     "collapsed": false,
     "input": [
      "plot?"
     ],
     "language": "python",
     "metadata": {},
     "outputs": []
    },
    {
     "cell_type": "code",
     "collapsed": false,
     "input": [
      "%pdoc plot"
     ],
     "language": "python",
     "metadata": {},
     "outputs": []
    },
    {
     "cell_type": "code",
     "collapsed": false,
     "input": [
      "%psource plot"
     ],
     "language": "python",
     "metadata": {},
     "outputs": []
    },
    {
     "cell_type": "markdown",
     "metadata": {},
     "source": [
      "### Saving and running"
     ]
    },
    {
     "cell_type": "code",
     "collapsed": false,
     "input": [
      "def faulty_function(s):\n",
      "\n",
      "    result = s+1\n",
      "\n",
      "    return result\n",
      "\n",
      "faulty_function(\"Not a number\")"
     ],
     "language": "python",
     "metadata": {},
     "outputs": []
    },
    {
     "cell_type": "code",
     "collapsed": false,
     "input": [
      "%history -n"
     ],
     "language": "python",
     "metadata": {},
     "outputs": []
    },
    {
     "cell_type": "code",
     "collapsed": false,
     "input": [
      "%save -f saved_function.py 115"
     ],
     "language": "python",
     "metadata": {},
     "outputs": []
    },
    {
     "cell_type": "code",
     "collapsed": false,
     "input": [
      "%run saved_function.py"
     ],
     "language": "python",
     "metadata": {},
     "outputs": []
    },
    {
     "cell_type": "code",
     "collapsed": false,
     "input": [
      "%qtconsole"
     ],
     "language": "python",
     "metadata": {},
     "outputs": []
    },
    {
     "cell_type": "code",
     "collapsed": false,
     "input": [
      "# %debug # Run this in qtconsole"
     ],
     "language": "python",
     "metadata": {},
     "outputs": []
    },
    {
     "cell_type": "markdown",
     "metadata": {},
     "source": [
      "### Benchmarking"
     ]
    },
    {
     "cell_type": "code",
     "collapsed": false,
     "input": [
      "def crazy_function(n):\n",
      "\n",
      "    sum = 0\n",
      "\n",
      "    for i in arange(n): \n",
      "\n",
      "        sum += sqrt(i*i)\n",
      "\n",
      "    return sum"
     ],
     "language": "python",
     "metadata": {},
     "outputs": []
    },
    {
     "cell_type": "code",
     "collapsed": false,
     "input": [
      "%time crazy_function(1e6)"
     ],
     "language": "python",
     "metadata": {},
     "outputs": []
    },
    {
     "cell_type": "code",
     "collapsed": false,
     "input": [
      "%%timeit \n",
      "\n",
      "crazy_function(1e6)"
     ],
     "language": "python",
     "metadata": {},
     "outputs": []
    },
    {
     "cell_type": "markdown",
     "metadata": {},
     "source": [
      "### Loading from the web"
     ]
    },
    {
     "cell_type": "code",
     "collapsed": false,
     "input": [
      "%load http://matplotlib.sourceforge.net/plot_directive/mpl_examples/mplot3d/contour3d_demo.py"
     ],
     "language": "python",
     "metadata": {},
     "outputs": []
    },
    {
     "cell_type": "code",
     "collapsed": false,
     "input": [
      "from mpl_toolkits.mplot3d import axes3d\n",
      "\n",
      "import matplotlib.pyplot as plt\n",
      "\n",
      "\n",
      "\n",
      "fig = plt.figure()\n",
      "\n",
      "ax = fig.add_subplot(111, projection='3d')\n",
      "\n",
      "X, Y, Z = axes3d.get_test_data(0.05)\n",
      "\n",
      "cset = ax.contour(X, Y, Z)\n",
      "\n",
      "ax.clabel(cset, fontsize=9, inline=1)\n",
      "\n",
      "\n",
      "\n",
      "plt.show()\n",
      "\n",
      "\n"
     ],
     "language": "python",
     "metadata": {},
     "outputs": []
    },
    {
     "cell_type": "markdown",
     "metadata": {},
     "source": [
      "## 2. Integration\n",
      "\n",
      "\n",
      "\n",
      "### R (statistical programming package)"
     ]
    },
    {
     "cell_type": "code",
     "collapsed": false,
     "input": [
      "# Might need to install R and rpy2\n",
      "\n",
      "%load_ext rmagic"
     ],
     "language": "python",
     "metadata": {},
     "outputs": []
    },
    {
     "cell_type": "code",
     "collapsed": false,
     "input": [
      "X = arange(100)\n",
      "\n",
      "Y = 200.*X + 100."
     ],
     "language": "python",
     "metadata": {},
     "outputs": []
    },
    {
     "cell_type": "code",
     "collapsed": false,
     "input": [
      "%%R -i X,Y -o XYcoeff\n",
      "\n",
      "XYlm = lm(Y~X)\n",
      "\n",
      "print(summary(XYlm))\n",
      "\n",
      "XYcoeff = coef(XYlm)\n",
      "\n",
      "par(mfrow=c(2,2))\n",
      "\n",
      "plot(XYlm)"
     ],
     "language": "python",
     "metadata": {},
     "outputs": []
    },
    {
     "cell_type": "code",
     "collapsed": false,
     "input": [
      "print XYcoeff"
     ],
     "language": "python",
     "metadata": {},
     "outputs": []
    },
    {
     "cell_type": "markdown",
     "metadata": {},
     "source": [
      "### Octave"
     ]
    },
    {
     "cell_type": "code",
     "collapsed": false,
     "input": [
      "# Might need to install Octave and oct2py\n",
      "\n",
      "#%load_ext octavemagic"
     ],
     "language": "python",
     "metadata": {},
     "outputs": []
    },
    {
     "cell_type": "code",
     "collapsed": false,
     "input": [
      "%%octave -s 600,200 -f png\n",
      "\n",
      "\n",
      "\n",
      "subplot(121);\n",
      "\n",
      "[x,y] = meshgrid(0:0.1:3)\n",
      "\n",
      "r = sin(x-0.5).^2 + cos(y-0.5).^2\n",
      "\n",
      "surf(x,y,r)\n",
      "\n",
      "\n",
      "\n",
      "subplot(122);\n",
      "\n",
      "sombrero()"
     ],
     "language": "python",
     "metadata": {},
     "outputs": []
    },
    {
     "cell_type": "markdown",
     "metadata": {},
     "source": [
      "![Octave test](http://ipython.org/ipython-doc/rel-0.13/_static/ipy_013_notebook_octavemagic.png)"
     ]
    },
    {
     "cell_type": "markdown",
     "metadata": {},
     "source": [
      "### Cython (C and Python mashup)"
     ]
    },
    {
     "cell_type": "code",
     "collapsed": false,
     "input": [
      "%load_ext cythonmagic"
     ],
     "language": "python",
     "metadata": {},
     "outputs": []
    },
    {
     "cell_type": "code",
     "collapsed": false,
     "input": [
      "%%cython\n",
      "\n",
      "cimport cython\n",
      "\n",
      "from math import sqrt\n",
      "\n",
      "def crazy_function_cython(long n):\n",
      "\n",
      "    cdef double sum = 0.0\n",
      "\n",
      "    cdef long i = 0\n",
      "\n",
      "    while i < n:\n",
      "\n",
      "        sum += sqrt(i*i)\n",
      "\n",
      "        i += 1\n",
      "\n",
      "    return sum"
     ],
     "language": "python",
     "metadata": {},
     "outputs": []
    },
    {
     "cell_type": "code",
     "collapsed": false,
     "input": [
      "%time crazy_function_cython(1e6) ;"
     ],
     "language": "python",
     "metadata": {},
     "outputs": []
    },
    {
     "cell_type": "markdown",
     "metadata": {},
     "source": [
      "### Command line (shell)"
     ]
    },
    {
     "cell_type": "code",
     "collapsed": false,
     "input": [
      "%%!\n",
      "\n",
      "cd ../python-bootcamp/\n",
      "\n",
      "ls\n",
      "\n",
      "git status"
     ],
     "language": "python",
     "metadata": {},
     "outputs": []
    },
    {
     "cell_type": "markdown",
     "metadata": {},
     "source": [
      "### Ruby (wuhuu)"
     ]
    },
    {
     "cell_type": "code",
     "collapsed": false,
     "input": [
      "%%ruby\n",
      "\n",
      "s = \"Yo IPython, Ruby's here 4 real!\"\n",
      "\n",
      "s.split(\" \").each do |word| \n",
      "\n",
      "    puts word if word.to_i.to_s == word\n",
      "\n",
      "end"
     ],
     "language": "python",
     "metadata": {},
     "outputs": []
    },
    {
     "cell_type": "markdown",
     "metadata": {},
     "source": [
      "## 3. Parallelization\n",
      "\n",
      "\n",
      "\n",
      "### Parallel client"
     ]
    },
    {
     "cell_type": "code",
     "collapsed": false,
     "input": [
      "from IPython.parallel import Client\n",
      "\n",
      "c = Client()\n",
      "\n",
      "print len(c)\n",
      "\n",
      "clust = c[:]\n",
      "\n",
      "clust.block = True\n",
      "\n",
      "print clust"
     ],
     "language": "python",
     "metadata": {},
     "outputs": []
    },
    {
     "cell_type": "code",
     "collapsed": false,
     "input": [
      "print clust.apply_sync(lambda : \"Hello, World\")"
     ],
     "language": "python",
     "metadata": {},
     "outputs": []
    },
    {
     "cell_type": "code",
     "collapsed": false,
     "input": [
      "apply_res = clust.apply_async(lambda : \"Hello, World\")\n",
      "\n",
      "print apply_res.get()"
     ],
     "language": "python",
     "metadata": {},
     "outputs": []
    },
    {
     "cell_type": "code",
     "collapsed": false,
     "input": [
      "print clust.map_sync(lambda x: x**2, [1,2,3,4])"
     ],
     "language": "python",
     "metadata": {},
     "outputs": []
    },
    {
     "cell_type": "code",
     "collapsed": false,
     "input": [
      "map_res = clust.map_async(lambda x: x**2, [1,2,3,4])\n",
      "\n",
      "print map_res.get()"
     ],
     "language": "python",
     "metadata": {},
     "outputs": []
    },
    {
     "cell_type": "markdown",
     "metadata": {},
     "source": [
      "### Parallel magic"
     ]
    },
    {
     "cell_type": "code",
     "collapsed": false,
     "input": [
      "%px print \"Hello from independent Engine\""
     ],
     "language": "python",
     "metadata": {},
     "outputs": []
    },
    {
     "cell_type": "code",
     "collapsed": false,
     "input": [
      "%%px\n",
      "\n",
      "%pylab"
     ],
     "language": "python",
     "metadata": {},
     "outputs": []
    },
    {
     "cell_type": "code",
     "collapsed": false,
     "input": [
      "%%px\n",
      "\n",
      "def crazy_function_part(n, start=0):\n",
      "\n",
      "    sum = 0\n",
      "\n",
      "    for i in arange(start, start+n): \n",
      "\n",
      "        sum += sqrt(i*i)\n",
      "\n",
      "    return sum"
     ],
     "language": "python",
     "metadata": {},
     "outputs": []
    },
    {
     "cell_type": "code",
     "collapsed": false,
     "input": [
      "clust.scatter('start', (1e6/4)*arange(4))"
     ],
     "language": "python",
     "metadata": {},
     "outputs": []
    },
    {
     "cell_type": "code",
     "collapsed": false,
     "input": [
      "%%px\n",
      "\n",
      "%time result = crazy_function_part(1e6/4, start=start)"
     ],
     "language": "python",
     "metadata": {},
     "outputs": []
    },
    {
     "cell_type": "code",
     "collapsed": false,
     "input": [
      "sum( clust.gather(\"result\") )"
     ],
     "language": "python",
     "metadata": {},
     "outputs": []
    },
    {
     "cell_type": "markdown",
     "metadata": {},
     "source": [
      "### Pi in the PiCloud\n",
      "\n",
      "\n",
      "\n",
      "![Monte Carlo Pi](http://docs.picloud.com/_images/basic_example_monte.gif)\n"
     ]
    },
    {
     "cell_type": "code",
     "collapsed": false,
     "input": [
      "def sample_circle(n):\n",
      "\n",
      "    m = 0\n",
      "\n",
      "    for i in xrange(int(n)):\n",
      "\n",
      "        p = rand(2)\n",
      "\n",
      "        if sum(p**2.) <= 1.:\n",
      "\n",
      "            m += 1\n",
      "\n",
      "    return m\n",
      "\n",
      "def brute_pi(n):\n",
      "\n",
      "    m = sample_circle(n)\n",
      "\n",
      "    return 4.* m/n"
     ],
     "language": "python",
     "metadata": {},
     "outputs": []
    },
    {
     "cell_type": "code",
     "collapsed": false,
     "input": [
      "n = 5e7"
     ],
     "language": "python",
     "metadata": {},
     "outputs": []
    },
    {
     "cell_type": "code",
     "collapsed": false,
     "input": [
      "%time bpi = brute_pi(n)\n",
      "\n",
      "print bpi, pi, abs(pi - bpi)"
     ],
     "language": "python",
     "metadata": {},
     "outputs": []
    },
    {
     "cell_type": "code",
     "collapsed": false,
     "input": [
      "import cloud # Seriously!!"
     ],
     "language": "python",
     "metadata": {},
     "outputs": []
    },
    {
     "cell_type": "code",
     "collapsed": false,
     "input": [
      "jid = cloud.map(sample_circle, 50*[n/50])"
     ],
     "language": "python",
     "metadata": {},
     "outputs": []
    },
    {
     "cell_type": "code",
     "collapsed": false,
     "input": [
      "%time reduced = sum( cloud.result(jid) )\n",
      "\n",
      "print 4.* reduced / n"
     ],
     "language": "python",
     "metadata": {},
     "outputs": []
    },
    {
     "cell_type": "markdown",
     "metadata": {},
     "source": [
      "### Notebook Cloud\n",
      "\n",
      "\n",
      "\n",
      "[https://notebookcloud.appspot.com/](https://notebookcloud.appspot.com/)"
     ]
    },
    {
     "cell_type": "markdown",
     "metadata": {},
     "source": [
      "## Breakout session\n",
      "\n",
      "\n",
      "\n",
      "IF YOU ARE ON IPython 0.12, PLEASE UPGRADE!\n",
      "\n",
      "\n",
      "\n",
      "If you are using EPD, below commands should du it. If you get errors, you might need to prepend with sudo or run as superuser:"
     ]
    },
    {
     "cell_type": "markdown",
     "metadata": {},
     "source": [
      "enpkg enstaller\n",
      "\n",
      "enpkg ipython"
     ]
    }
   ],
   "metadata": {}
  }
 ]
}